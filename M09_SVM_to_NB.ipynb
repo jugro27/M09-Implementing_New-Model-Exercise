{
 "cells": [
  {
   "cell_type": "code",
   "execution_count": 1,
   "id": "223ae2c0-9eb2-4e53-b493-38e282a50ff9",
   "metadata": {},
   "outputs": [],
   "source": [
    "import pandas as pd\n",
    "from sklearn.model_selection import train_test_split\n",
    "from sklearn.datasets import load_iris\n",
    "from sklearn.naive_bayes import GaussianNB\n",
    "from sklearn import metrics\n",
    "from sklearn.metrics import confusion_matrix, accuracy_score\n",
    "import time\n",
    "startTime = time.time()\n",
    "\n",
    "df = pd.read_csv('Cars93.csv')"
   ]
  },
  {
   "cell_type": "code",
   "execution_count": 2,
   "id": "05caa90e-5b24-4f2e-a5fc-afbdf963b770",
   "metadata": {},
   "outputs": [
    {
     "data": {
      "text/html": [
       "<div>\n",
       "<style scoped>\n",
       "    .dataframe tbody tr th:only-of-type {\n",
       "        vertical-align: middle;\n",
       "    }\n",
       "\n",
       "    .dataframe tbody tr th {\n",
       "        vertical-align: top;\n",
       "    }\n",
       "\n",
       "    .dataframe thead th {\n",
       "        text-align: right;\n",
       "    }\n",
       "</style>\n",
       "<table border=\"1\" class=\"dataframe\">\n",
       "  <thead>\n",
       "    <tr style=\"text-align: right;\">\n",
       "      <th></th>\n",
       "      <th>Price</th>\n",
       "      <th>MPG.city</th>\n",
       "      <th>MPG.highway</th>\n",
       "      <th>Cylinders</th>\n",
       "      <th>EngineSize</th>\n",
       "      <th>Horsepower</th>\n",
       "      <th>RPM</th>\n",
       "      <th>Man.trans.avail</th>\n",
       "      <th>Fuel.tank.capacity</th>\n",
       "      <th>Weight</th>\n",
       "    </tr>\n",
       "  </thead>\n",
       "  <tbody>\n",
       "    <tr>\n",
       "      <th>0</th>\n",
       "      <td>15.9</td>\n",
       "      <td>25</td>\n",
       "      <td>31</td>\n",
       "      <td>4</td>\n",
       "      <td>1.8</td>\n",
       "      <td>140</td>\n",
       "      <td>6300</td>\n",
       "      <td>Yes</td>\n",
       "      <td>13.2</td>\n",
       "      <td>2705</td>\n",
       "    </tr>\n",
       "    <tr>\n",
       "      <th>1</th>\n",
       "      <td>33.9</td>\n",
       "      <td>18</td>\n",
       "      <td>25</td>\n",
       "      <td>6</td>\n",
       "      <td>3.2</td>\n",
       "      <td>200</td>\n",
       "      <td>5500</td>\n",
       "      <td>Yes</td>\n",
       "      <td>18.0</td>\n",
       "      <td>3560</td>\n",
       "    </tr>\n",
       "    <tr>\n",
       "      <th>2</th>\n",
       "      <td>29.1</td>\n",
       "      <td>20</td>\n",
       "      <td>26</td>\n",
       "      <td>6</td>\n",
       "      <td>2.8</td>\n",
       "      <td>172</td>\n",
       "      <td>5500</td>\n",
       "      <td>Yes</td>\n",
       "      <td>16.9</td>\n",
       "      <td>3375</td>\n",
       "    </tr>\n",
       "    <tr>\n",
       "      <th>3</th>\n",
       "      <td>37.7</td>\n",
       "      <td>19</td>\n",
       "      <td>26</td>\n",
       "      <td>6</td>\n",
       "      <td>2.8</td>\n",
       "      <td>172</td>\n",
       "      <td>5500</td>\n",
       "      <td>Yes</td>\n",
       "      <td>21.1</td>\n",
       "      <td>3405</td>\n",
       "    </tr>\n",
       "    <tr>\n",
       "      <th>4</th>\n",
       "      <td>30.0</td>\n",
       "      <td>22</td>\n",
       "      <td>30</td>\n",
       "      <td>4</td>\n",
       "      <td>3.5</td>\n",
       "      <td>208</td>\n",
       "      <td>5700</td>\n",
       "      <td>Yes</td>\n",
       "      <td>21.1</td>\n",
       "      <td>3640</td>\n",
       "    </tr>\n",
       "  </tbody>\n",
       "</table>\n",
       "</div>"
      ],
      "text/plain": [
       "   Price  MPG.city  MPG.highway Cylinders  EngineSize  Horsepower   RPM  \\\n",
       "0   15.9        25           31         4         1.8         140  6300   \n",
       "1   33.9        18           25         6         3.2         200  5500   \n",
       "2   29.1        20           26         6         2.8         172  5500   \n",
       "3   37.7        19           26         6         2.8         172  5500   \n",
       "4   30.0        22           30         4         3.5         208  5700   \n",
       "\n",
       "  Man.trans.avail  Fuel.tank.capacity  Weight  \n",
       "0             Yes                13.2    2705  \n",
       "1             Yes                18.0    3560  \n",
       "2             Yes                16.9    3375  \n",
       "3             Yes                21.1    3405  \n",
       "4             Yes                21.1    3640  "
      ]
     },
     "execution_count": 2,
     "metadata": {},
     "output_type": "execute_result"
    }
   ],
   "source": [
    "df.drop(columns=['Unnamed: 0','Manufacturer','Model','Type','Min.Price','Max.Price','AirBags','DriveTrain','Rev.per.mile','Passengers','Length','Wheelbase','Width','Turn.circle','Rear.seat.room','Luggage.room','Origin','Make'], axis=1, inplace=True)\n",
    "df.head()"
   ]
  },
  {
   "cell_type": "code",
   "execution_count": 3,
   "id": "7030f19c-3605-45af-9581-17092a85468c",
   "metadata": {},
   "outputs": [],
   "source": [
    "df.drop(df[df['Cylinders'] == 'rotary'].index, inplace = True)"
   ]
  },
  {
   "cell_type": "code",
   "execution_count": 4,
   "id": "40b1eaec-45aa-4003-8066-28c70548893f",
   "metadata": {},
   "outputs": [],
   "source": [
    "numericData = df.drop(columns='Man.trans.avail').copy()\n",
    "# Man.trans.avail as category column\n",
    "categoricalData = df['Man.trans.avail'].copy()\n",
    "\n",
    "categoricalData = categoricalData.map({'Yes': 1, 'No': 0})\n",
    "# Make it the column is predicts"
   ]
  },
  {
   "cell_type": "code",
   "execution_count": 5,
   "id": "172599f5-5016-44c7-9ec8-d5ed390235ac",
   "metadata": {},
   "outputs": [],
   "source": [
    "df = pd.concat([numericData, categoricalData], axis=1)"
   ]
  },
  {
   "cell_type": "code",
   "execution_count": 6,
   "id": "e6095f2a-74d8-4b16-9fc0-8ac06398b356",
   "metadata": {},
   "outputs": [],
   "source": [
    "x = numericData\n",
    "y = categoricalData\n",
    "x_train, x_test, y_train, y_test = train_test_split(x, y, test_size=.25, random_state=0)"
   ]
  },
  {
   "cell_type": "code",
   "execution_count": 7,
   "id": "bff7fb55-0007-413a-a574-398982834c39",
   "metadata": {},
   "outputs": [
    {
     "name": "stdout",
     "output_type": "stream",
     "text": [
      "Number of mislabeled points out of a total 23 points : 4\n"
     ]
    }
   ],
   "source": [
    "gnb = GaussianNB()\n",
    "y_pred = gnb.fit(x_train, y_train).predict(x_test)\n",
    "print(\"Number of mislabeled points out of a total %d points : %d\"\n",
    "% (x_test.shape[0], (y_test != y_pred).sum()))"
   ]
  },
  {
   "cell_type": "code",
   "execution_count": 8,
   "id": "0b75e320-3cb7-4d39-b0a4-de013bcbcac7",
   "metadata": {},
   "outputs": [
    {
     "name": "stdout",
     "output_type": "stream",
     "text": [
      "GaussianNB()\n",
      "              precision    recall  f1-score   support\n",
      "\n",
      "           0       0.67      0.86      0.75         7\n",
      "           1       0.93      0.81      0.87        16\n",
      "\n",
      "    accuracy                           0.83        23\n",
      "   macro avg       0.80      0.83      0.81        23\n",
      "weighted avg       0.85      0.83      0.83        23\n",
      "\n",
      "[[ 6  1]\n",
      " [ 3 13]]\n",
      "0.7391304347826086\n",
      "Accuracy for GNB is:  82.6086956521739\n",
      "Execution time in seconds: 0.15183520317077637\n"
     ]
    }
   ],
   "source": [
    "model = GaussianNB()\n",
    "model.fit(x_train, y_train)\n",
    "print(model)\n",
    "# make predictions\n",
    "expected = y_test\n",
    "predicted = model.predict(x_test)\n",
    "accuracy = accuracy_score(y_test, y_pred)*100\n",
    "# summarize the fit of the model\n",
    "print(metrics.classification_report(expected, predicted))\n",
    "print(metrics.confusion_matrix(expected, predicted))\n",
    "print(model.score(x_train, y_train))\n",
    "print(\"Accuracy for GNB is: \", accuracy)\n",
    "\n",
    "executionTime = (time.time() - startTime)\n",
    "print('Execution time in seconds: ' + str(executionTime))"
   ]
  }
 ],
 "metadata": {
  "kernelspec": {
   "display_name": "Python 3 (ipykernel)",
   "language": "python",
   "name": "python3"
  },
  "language_info": {
   "codemirror_mode": {
    "name": "ipython",
    "version": 3
   },
   "file_extension": ".py",
   "mimetype": "text/x-python",
   "name": "python",
   "nbconvert_exporter": "python",
   "pygments_lexer": "ipython3",
   "version": "3.9.12"
  }
 },
 "nbformat": 4,
 "nbformat_minor": 5
}
